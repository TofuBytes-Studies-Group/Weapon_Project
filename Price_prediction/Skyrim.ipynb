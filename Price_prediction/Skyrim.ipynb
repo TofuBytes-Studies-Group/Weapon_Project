{
 "cells": [
  {
   "metadata": {},
   "cell_type": "markdown",
   "source": "We start by adding our libraries, loading the dataset and displays the basic information about the dataset.",
   "id": "e255866a11b55970"
  },
  {
   "cell_type": "code",
   "id": "5332b4c1-2436-4876-bbac-702e6f6807a1",
   "metadata": {
    "ExecuteTime": {
     "end_time": "2025-05-20T08:13:23.527371Z",
     "start_time": "2025-05-20T08:13:23.492489Z"
    }
   },
   "source": [
    "# Import necessary libraries\n",
    "import pandas as pd\n",
    "import numpy as np\n",
    "import matplotlib.pyplot as plt\n",
    "import seaborn as sns\n",
    "from joblib import dump\n",
    "from sklearn.model_selection import train_test_split\n",
    "from sklearn.ensemble import RandomForestRegressor\n",
    "from sklearn.linear_model import LinearRegression\n",
    "from sklearn.metrics import root_mean_squared_error, r2_score\n",
    "from sklearn.preprocessing import OneHotEncoder\n",
    "from sklearn.preprocessing import OrdinalEncoder\n",
    "from sklearn.compose import ColumnTransformer\n",
    "from sklearn.pipeline import Pipeline\n",
    "from sklearn.metrics import mean_squared_error\n",
    "from sklearn.cluster import KMeans\n",
    "from sklearn.preprocessing import StandardScaler\n",
    "import os\n",
    "\n",
    "import os\n",
    "print(\"Current working directory:\", os.getcwd())\n",
    "# Load the dataset\n",
    "sw = pd.read_csv('Skyrim_Weapons.csv')\n",
    "\n",
    "# This displays basic information about the dataset\n",
    "print(\"Dataset shape:\", sw.shape)\n",
    "print(\"\\nFirst 5 rows:\")\n",
    "print(sw.head())\n",
    "\n",
    "print(\"\\nDataset information:\")\n",
    "print(sw.info())\n",
    "\n",
    "print(\"\\nSummary statistics:\")\n",
    "print(sw.describe())\n"
   ],
   "outputs": [
    {
     "name": "stdout",
     "output_type": "stream",
     "text": [
      "Current working directory: C:\\Users\\Helen\\PycharmProjects\\Weapon_Project\\Price_prediction\n",
      "Dataset shape: (293, 9)\n",
      "\n",
      "First 5 rows:\n",
      "                      Name  Damage  Weight  Gold              Upgrade  \\\n",
      "0  Ancient Nord Battle Axe      18    22.0    28          Steel Ingot   \n",
      "1        Daedric Battleaxe      25    27.0  2750          Ebony Ingot   \n",
      "2    Dragonbone Battleaxe       26    30.0  3000          Dragon Bone   \n",
      "3     Drainblood Battleaxe      21     5.0   266                  NaN   \n",
      "4        Dwarven Battleaxe      20    23.0   300  Dwarven Metal Ingot   \n",
      "\n",
      "      Perk       Type    Category  Speed  \n",
      "0    Steel  Battleaxe  Two-Handed    NaN  \n",
      "1  Daedric  Battleaxe  Two-Handed    NaN  \n",
      "2   Dragon  Battleaxe  Two-Handed    NaN  \n",
      "3        -  Battleaxe  Two-Handed    NaN  \n",
      "4  Dwarven  Battleaxe  Two-Handed    NaN  \n",
      "\n",
      "Dataset information:\n",
      "<class 'pandas.core.frame.DataFrame'>\n",
      "RangeIndex: 293 entries, 0 to 292\n",
      "Data columns (total 9 columns):\n",
      " #   Column    Non-Null Count  Dtype  \n",
      "---  ------    --------------  -----  \n",
      " 0   Name      293 non-null    object \n",
      " 1   Damage    293 non-null    int64  \n",
      " 2   Weight    293 non-null    float64\n",
      " 3   Gold      293 non-null    int64  \n",
      " 4   Upgrade   232 non-null    object \n",
      " 5   Perk      210 non-null    object \n",
      " 6   Type      293 non-null    object \n",
      " 7   Category  293 non-null    object \n",
      " 8   Speed     39 non-null     float64\n",
      "dtypes: float64(2), int64(2), object(5)\n",
      "memory usage: 20.7+ KB\n",
      "None\n",
      "\n",
      "Summary statistics:\n",
      "           Damage      Weight         Gold      Speed\n",
      "count  293.000000  293.000000   293.000000  39.000000\n",
      "mean    13.017065   12.590444   521.300341   0.765923\n",
      "std      5.692736    7.649840   732.009566   0.165776\n",
      "min      0.000000    0.000000     0.000000   0.500000\n",
      "25%      9.000000    9.000000    45.000000   0.625000\n",
      "50%     12.000000   12.000000   188.000000   0.750000\n",
      "75%     17.000000   17.000000   727.000000   0.875000\n",
      "max     28.000000   36.000000  4275.000000   1.000000\n"
     ]
    }
   ],
   "execution_count": 4
  },
  {
   "metadata": {},
   "cell_type": "markdown",
   "source": "Then we checks for missing values.",
   "id": "8085a1cf95490694"
  },
  {
   "cell_type": "code",
   "id": "83b5e418-3a48-4b29-8e4c-af59a2695052",
   "metadata": {
    "ExecuteTime": {
     "end_time": "2025-05-20T08:13:23.584070Z",
     "start_time": "2025-05-20T08:13:23.566610Z"
    }
   },
   "source": [
    "# Check for missing values\n",
    "print(\"\\nMissing values:\")\n",
    "sw.isnull().sum()\n"
   ],
   "outputs": [
    {
     "name": "stdout",
     "output_type": "stream",
     "text": [
      "\n",
      "Missing values:\n"
     ]
    },
    {
     "data": {
      "text/plain": [
       "Name          0\n",
       "Damage        0\n",
       "Weight        0\n",
       "Gold          0\n",
       "Upgrade      61\n",
       "Perk         83\n",
       "Type          0\n",
       "Category      0\n",
       "Speed       254\n",
       "dtype: int64"
      ]
     },
     "execution_count": 5,
     "metadata": {},
     "output_type": "execute_result"
    }
   ],
   "execution_count": 5
  },
  {
   "metadata": {},
   "cell_type": "markdown",
   "source": [
    "We then check for the size of the dataset, and what types the columns are, so that we get some more information for later,\n",
    "about which columns we might need to change the types for."
   ],
   "id": "7292db4b915597b8"
  },
  {
   "cell_type": "code",
   "id": "db3b584f-a91c-45e0-9397-a75cbab33f31",
   "metadata": {
    "ExecuteTime": {
     "end_time": "2025-05-20T08:13:23.830621Z",
     "start_time": "2025-05-20T08:13:23.820620Z"
    }
   },
   "source": [
    "## Size of the dataset and Type of each column in the dataset\n",
    "print(\"Size of the dataset\", sw.shape, \"\\n\")\n",
    "print(\"Type of each column\\n\", sw.dtypes)"
   ],
   "outputs": [
    {
     "name": "stdout",
     "output_type": "stream",
     "text": [
      "Size of the dataset (293, 9) \n",
      "\n",
      "Type of each column\n",
      " Name         object\n",
      "Damage        int64\n",
      "Weight      float64\n",
      "Gold          int64\n",
      "Upgrade      object\n",
      "Perk         object\n",
      "Type         object\n",
      "Category     object\n",
      "Speed       float64\n",
      "dtype: object\n"
     ]
    }
   ],
   "execution_count": 6
  },
  {
   "metadata": {},
   "cell_type": "markdown",
   "source": "Then we use describe, to extract metadata.",
   "id": "6718715845b3177f"
  },
  {
   "cell_type": "code",
   "id": "08348849-728f-4ceb-bc04-9856b3f2673e",
   "metadata": {
    "ExecuteTime": {
     "end_time": "2025-05-20T08:13:24.191887Z",
     "start_time": "2025-05-20T08:13:24.167761Z"
    }
   },
   "source": [
    "print(sw.describe())"
   ],
   "outputs": [
    {
     "name": "stdout",
     "output_type": "stream",
     "text": [
      "           Damage      Weight         Gold      Speed\n",
      "count  293.000000  293.000000   293.000000  39.000000\n",
      "mean    13.017065   12.590444   521.300341   0.765923\n",
      "std      5.692736    7.649840   732.009566   0.165776\n",
      "min      0.000000    0.000000     0.000000   0.500000\n",
      "25%      9.000000    9.000000    45.000000   0.625000\n",
      "50%     12.000000   12.000000   188.000000   0.750000\n",
      "75%     17.000000   17.000000   727.000000   0.875000\n",
      "max     28.000000   36.000000  4275.000000   1.000000\n"
     ]
    }
   ],
   "execution_count": 7
  },
  {
   "metadata": {},
   "cell_type": "markdown",
   "source": "Then we check for duplicates in the dataset.\n",
   "id": "bad6c69b72e69192"
  },
  {
   "cell_type": "code",
   "id": "5cbd2aee-c9aa-4788-ab4b-4f80943cee50",
   "metadata": {
    "ExecuteTime": {
     "end_time": "2025-05-20T08:13:24.503981Z",
     "start_time": "2025-05-20T08:13:24.483981Z"
    }
   },
   "source": [
    "## Number of duplicates in the dataset\n",
    "print(\"Number of duplicates in the dataset\", sw.duplicated().sum())\n",
    "print(sw.count().sum())"
   ],
   "outputs": [
    {
     "name": "stdout",
     "output_type": "stream",
     "text": [
      "Number of duplicates in the dataset 0\n",
      "2239\n"
     ]
    }
   ],
   "execution_count": 8
  },
  {
   "metadata": {},
   "cell_type": "markdown",
   "source": "We then choose to delete the speed column, as more than 85% of this column is empty.\n",
   "id": "31a031f34f55fe18"
  },
  {
   "cell_type": "code",
   "id": "9b764ed2-5d77-4a79-b738-b6bf8d79a469",
   "metadata": {
    "ExecuteTime": {
     "end_time": "2025-05-20T08:13:24.691295Z",
     "start_time": "2025-05-20T08:13:24.664298Z"
    }
   },
   "source": [
    "sw.drop(['Speed'], axis=1, inplace=True)\n",
    "sw.head()"
   ],
   "outputs": [
    {
     "data": {
      "text/plain": [
       "                      Name  Damage  Weight  Gold              Upgrade  \\\n",
       "0  Ancient Nord Battle Axe      18    22.0    28          Steel Ingot   \n",
       "1        Daedric Battleaxe      25    27.0  2750          Ebony Ingot   \n",
       "2    Dragonbone Battleaxe       26    30.0  3000          Dragon Bone   \n",
       "3     Drainblood Battleaxe      21     5.0   266                  NaN   \n",
       "4        Dwarven Battleaxe      20    23.0   300  Dwarven Metal Ingot   \n",
       "\n",
       "      Perk       Type    Category  \n",
       "0    Steel  Battleaxe  Two-Handed  \n",
       "1  Daedric  Battleaxe  Two-Handed  \n",
       "2   Dragon  Battleaxe  Two-Handed  \n",
       "3        -  Battleaxe  Two-Handed  \n",
       "4  Dwarven  Battleaxe  Two-Handed  "
      ],
      "text/html": [
       "<div>\n",
       "<style scoped>\n",
       "    .dataframe tbody tr th:only-of-type {\n",
       "        vertical-align: middle;\n",
       "    }\n",
       "\n",
       "    .dataframe tbody tr th {\n",
       "        vertical-align: top;\n",
       "    }\n",
       "\n",
       "    .dataframe thead th {\n",
       "        text-align: right;\n",
       "    }\n",
       "</style>\n",
       "<table border=\"1\" class=\"dataframe\">\n",
       "  <thead>\n",
       "    <tr style=\"text-align: right;\">\n",
       "      <th></th>\n",
       "      <th>Name</th>\n",
       "      <th>Damage</th>\n",
       "      <th>Weight</th>\n",
       "      <th>Gold</th>\n",
       "      <th>Upgrade</th>\n",
       "      <th>Perk</th>\n",
       "      <th>Type</th>\n",
       "      <th>Category</th>\n",
       "    </tr>\n",
       "  </thead>\n",
       "  <tbody>\n",
       "    <tr>\n",
       "      <th>0</th>\n",
       "      <td>Ancient Nord Battle Axe</td>\n",
       "      <td>18</td>\n",
       "      <td>22.0</td>\n",
       "      <td>28</td>\n",
       "      <td>Steel Ingot</td>\n",
       "      <td>Steel</td>\n",
       "      <td>Battleaxe</td>\n",
       "      <td>Two-Handed</td>\n",
       "    </tr>\n",
       "    <tr>\n",
       "      <th>1</th>\n",
       "      <td>Daedric Battleaxe</td>\n",
       "      <td>25</td>\n",
       "      <td>27.0</td>\n",
       "      <td>2750</td>\n",
       "      <td>Ebony Ingot</td>\n",
       "      <td>Daedric</td>\n",
       "      <td>Battleaxe</td>\n",
       "      <td>Two-Handed</td>\n",
       "    </tr>\n",
       "    <tr>\n",
       "      <th>2</th>\n",
       "      <td>Dragonbone Battleaxe</td>\n",
       "      <td>26</td>\n",
       "      <td>30.0</td>\n",
       "      <td>3000</td>\n",
       "      <td>Dragon Bone</td>\n",
       "      <td>Dragon</td>\n",
       "      <td>Battleaxe</td>\n",
       "      <td>Two-Handed</td>\n",
       "    </tr>\n",
       "    <tr>\n",
       "      <th>3</th>\n",
       "      <td>Drainblood Battleaxe</td>\n",
       "      <td>21</td>\n",
       "      <td>5.0</td>\n",
       "      <td>266</td>\n",
       "      <td>NaN</td>\n",
       "      <td>-</td>\n",
       "      <td>Battleaxe</td>\n",
       "      <td>Two-Handed</td>\n",
       "    </tr>\n",
       "    <tr>\n",
       "      <th>4</th>\n",
       "      <td>Dwarven Battleaxe</td>\n",
       "      <td>20</td>\n",
       "      <td>23.0</td>\n",
       "      <td>300</td>\n",
       "      <td>Dwarven Metal Ingot</td>\n",
       "      <td>Dwarven</td>\n",
       "      <td>Battleaxe</td>\n",
       "      <td>Two-Handed</td>\n",
       "    </tr>\n",
       "  </tbody>\n",
       "</table>\n",
       "</div>"
      ]
     },
     "execution_count": 9,
     "metadata": {},
     "output_type": "execute_result"
    }
   ],
   "execution_count": 9
  },
  {
   "metadata": {},
   "cell_type": "markdown",
   "source": "We then check which columns there are, so we can use the names later.\n",
   "id": "a92931ccb0cc81dd"
  },
  {
   "cell_type": "code",
   "id": "28e0322b-cde9-47cf-b513-38034314c5f1",
   "metadata": {
    "ExecuteTime": {
     "end_time": "2025-05-20T08:13:25.049154Z",
     "start_time": "2025-05-20T08:13:25.040774Z"
    }
   },
   "source": [
    "print (sw.columns.tolist())"
   ],
   "outputs": [
    {
     "name": "stdout",
     "output_type": "stream",
     "text": [
      "['Name', 'Damage', 'Weight', 'Gold', 'Upgrade', 'Perk', 'Type', 'Category']\n"
     ]
    }
   ],
   "execution_count": 10
  },
  {
   "metadata": {},
   "cell_type": "markdown",
   "source": "After that, we check for null values ( - or NaN ) and removes all columns which have these.\n",
   "id": "7d138f1a37d210d3"
  },
  {
   "cell_type": "code",
   "id": "5fb55918-8689-4ef5-91a2-a1add5110539",
   "metadata": {
    "ExecuteTime": {
     "end_time": "2025-05-20T08:13:25.330480Z",
     "start_time": "2025-05-20T08:13:25.299574Z"
    }
   },
   "source": [
    "sw.replace([\"-\", \"–\"], np.nan, inplace=True)\n",
    "\n",
    "# Drop rows that have NaN in ANY column\n",
    "sw.dropna(inplace=True)\n",
    "\n",
    "sw.head(30)"
   ],
   "outputs": [
    {
     "data": {
      "text/plain": [
       "                              Name  Damage  Weight  Gold              Upgrade  \\\n",
       "0          Ancient Nord Battle Axe      18    22.0    28          Steel Ingot   \n",
       "1                Daedric Battleaxe      25    27.0  2750          Ebony Ingot   \n",
       "2            Dragonbone Battleaxe       26    30.0  3000          Dragon Bone   \n",
       "4                Dwarven Battleaxe      20    23.0   300  Dwarven Metal Ingot   \n",
       "5                  Ebony Battleaxe      23    26.0  1585          Ebony Ingot   \n",
       "6                  Elven Battleaxe      21    24.0   520    Refined Moonstone   \n",
       "7                  Glass Battleaxe      22    25.0   900    Refined Malachite   \n",
       "9    Honed Ancient Nord Battle Axe      21    25.0    50          Steel Ingot   \n",
       "11            Nord Hero Battle Axe      21    20.0   300          Steel Ingot   \n",
       "12             Nordic Battleaxe DR      21    23.0   650    Quicksilver Ingot   \n",
       "13                Orcish Battleaxe      19    25.0   165     Orichalcum Ingot   \n",
       "14        Skyforge Steel Battleaxe      21    21.0   150          Steel Ingot   \n",
       "15             Stalhrim Battleaxe       24    25.0  2150             Stalhrim   \n",
       "16  Steel Battleaxe of Fiery Souls      18    21.0   320          Steel Ingot   \n",
       "17                 Steel Battleaxe      18    21.0   100          Steel Ingot   \n",
       "23                    Blade of Woe      12     7.0   880        None required   \n",
       "25                      Bloodthorn       8     2.5   183          Steel Ingot   \n",
       "26                 Borvir's Dagger       8     4.0    18    Refined Moonstone   \n",
       "27                  Daedric Dagger      11     6.0   500          Ebony Ingot   \n",
       "28              Dragonbone Dagger       12     6.5   600          Dragon Bone   \n",
       "30                  Dwarven Dagger       7     3.5    55  Dwarven Metal Ingot   \n",
       "31                    Ebony Dagger      10     5.0   290          Ebony Ingot   \n",
       "32                    Elven Dagger       8     4.0    95    Refined Moonstone   \n",
       "33                    Glass Dagger       9     4.5   165    Refined Malachite   \n",
       "39                  Nordic Dagger        8     3.5   115    Quicksilver Ingot   \n",
       "40                   Orcish Dagger       6     3.0    30     Orichalcum Ingot   \n",
       "41                  Rundi's Dagger       5     2.5    18          Steel Ingot   \n",
       "44                Stalhrim Dagger       10     4.5   395             Stalhrim   \n",
       "45                    Steel Dagger       5     2.5    18          Steel Ingot   \n",
       "46            Valdr's Lucky Dagger       5     2.5    15          Steel Ingot   \n",
       "\n",
       "        Perk       Type    Category  \n",
       "0      Steel  Battleaxe  Two-Handed  \n",
       "1    Daedric  Battleaxe  Two-Handed  \n",
       "2     Dragon  Battleaxe  Two-Handed  \n",
       "4    Dwarven  Battleaxe  Two-Handed  \n",
       "5      Ebony  Battleaxe  Two-Handed  \n",
       "6      Elven  Battleaxe  Two-Handed  \n",
       "7      Glass  Battleaxe  Two-Handed  \n",
       "9    Dwarven  Battleaxe  Two-Handed  \n",
       "11     Steel  Battleaxe  Two-Handed  \n",
       "12  Advanced  Battleaxe  Two-Handed  \n",
       "13    Orcish  Battleaxe  Two-Handed  \n",
       "14     Steel  Battleaxe  Two-Handed  \n",
       "15     Ebony  Battleaxe  Two-Handed  \n",
       "16     Steel  Battleaxe  Two-Handed  \n",
       "17     Steel  Battleaxe  Two-Handed  \n",
       "23     Steel     Dagger  One-Handed  \n",
       "25     Steel     Dagger  One-Handed  \n",
       "26     Elven     Dagger  One-Handed  \n",
       "27   Daedric     Dagger  One-Handed  \n",
       "28    Dragon     Dagger  One-Handed  \n",
       "30   Dwarven     Dagger  One-Handed  \n",
       "31     Ebony     Dagger  One-Handed  \n",
       "32     Elven     Dagger  One-Handed  \n",
       "33     Glass     Dagger  One-Handed  \n",
       "39  Advanced     Dagger  One-Handed  \n",
       "40    Orcish     Dagger  One-Handed  \n",
       "41     Steel     Dagger  One-Handed  \n",
       "44     Ebony     Dagger  One-Handed  \n",
       "45     Steel     Dagger  One-Handed  \n",
       "46     Steel     Dagger  One-Handed  "
      ],
      "text/html": [
       "<div>\n",
       "<style scoped>\n",
       "    .dataframe tbody tr th:only-of-type {\n",
       "        vertical-align: middle;\n",
       "    }\n",
       "\n",
       "    .dataframe tbody tr th {\n",
       "        vertical-align: top;\n",
       "    }\n",
       "\n",
       "    .dataframe thead th {\n",
       "        text-align: right;\n",
       "    }\n",
       "</style>\n",
       "<table border=\"1\" class=\"dataframe\">\n",
       "  <thead>\n",
       "    <tr style=\"text-align: right;\">\n",
       "      <th></th>\n",
       "      <th>Name</th>\n",
       "      <th>Damage</th>\n",
       "      <th>Weight</th>\n",
       "      <th>Gold</th>\n",
       "      <th>Upgrade</th>\n",
       "      <th>Perk</th>\n",
       "      <th>Type</th>\n",
       "      <th>Category</th>\n",
       "    </tr>\n",
       "  </thead>\n",
       "  <tbody>\n",
       "    <tr>\n",
       "      <th>0</th>\n",
       "      <td>Ancient Nord Battle Axe</td>\n",
       "      <td>18</td>\n",
       "      <td>22.0</td>\n",
       "      <td>28</td>\n",
       "      <td>Steel Ingot</td>\n",
       "      <td>Steel</td>\n",
       "      <td>Battleaxe</td>\n",
       "      <td>Two-Handed</td>\n",
       "    </tr>\n",
       "    <tr>\n",
       "      <th>1</th>\n",
       "      <td>Daedric Battleaxe</td>\n",
       "      <td>25</td>\n",
       "      <td>27.0</td>\n",
       "      <td>2750</td>\n",
       "      <td>Ebony Ingot</td>\n",
       "      <td>Daedric</td>\n",
       "      <td>Battleaxe</td>\n",
       "      <td>Two-Handed</td>\n",
       "    </tr>\n",
       "    <tr>\n",
       "      <th>2</th>\n",
       "      <td>Dragonbone Battleaxe</td>\n",
       "      <td>26</td>\n",
       "      <td>30.0</td>\n",
       "      <td>3000</td>\n",
       "      <td>Dragon Bone</td>\n",
       "      <td>Dragon</td>\n",
       "      <td>Battleaxe</td>\n",
       "      <td>Two-Handed</td>\n",
       "    </tr>\n",
       "    <tr>\n",
       "      <th>4</th>\n",
       "      <td>Dwarven Battleaxe</td>\n",
       "      <td>20</td>\n",
       "      <td>23.0</td>\n",
       "      <td>300</td>\n",
       "      <td>Dwarven Metal Ingot</td>\n",
       "      <td>Dwarven</td>\n",
       "      <td>Battleaxe</td>\n",
       "      <td>Two-Handed</td>\n",
       "    </tr>\n",
       "    <tr>\n",
       "      <th>5</th>\n",
       "      <td>Ebony Battleaxe</td>\n",
       "      <td>23</td>\n",
       "      <td>26.0</td>\n",
       "      <td>1585</td>\n",
       "      <td>Ebony Ingot</td>\n",
       "      <td>Ebony</td>\n",
       "      <td>Battleaxe</td>\n",
       "      <td>Two-Handed</td>\n",
       "    </tr>\n",
       "    <tr>\n",
       "      <th>6</th>\n",
       "      <td>Elven Battleaxe</td>\n",
       "      <td>21</td>\n",
       "      <td>24.0</td>\n",
       "      <td>520</td>\n",
       "      <td>Refined Moonstone</td>\n",
       "      <td>Elven</td>\n",
       "      <td>Battleaxe</td>\n",
       "      <td>Two-Handed</td>\n",
       "    </tr>\n",
       "    <tr>\n",
       "      <th>7</th>\n",
       "      <td>Glass Battleaxe</td>\n",
       "      <td>22</td>\n",
       "      <td>25.0</td>\n",
       "      <td>900</td>\n",
       "      <td>Refined Malachite</td>\n",
       "      <td>Glass</td>\n",
       "      <td>Battleaxe</td>\n",
       "      <td>Two-Handed</td>\n",
       "    </tr>\n",
       "    <tr>\n",
       "      <th>9</th>\n",
       "      <td>Honed Ancient Nord Battle Axe</td>\n",
       "      <td>21</td>\n",
       "      <td>25.0</td>\n",
       "      <td>50</td>\n",
       "      <td>Steel Ingot</td>\n",
       "      <td>Dwarven</td>\n",
       "      <td>Battleaxe</td>\n",
       "      <td>Two-Handed</td>\n",
       "    </tr>\n",
       "    <tr>\n",
       "      <th>11</th>\n",
       "      <td>Nord Hero Battle Axe</td>\n",
       "      <td>21</td>\n",
       "      <td>20.0</td>\n",
       "      <td>300</td>\n",
       "      <td>Steel Ingot</td>\n",
       "      <td>Steel</td>\n",
       "      <td>Battleaxe</td>\n",
       "      <td>Two-Handed</td>\n",
       "    </tr>\n",
       "    <tr>\n",
       "      <th>12</th>\n",
       "      <td>Nordic Battleaxe DR</td>\n",
       "      <td>21</td>\n",
       "      <td>23.0</td>\n",
       "      <td>650</td>\n",
       "      <td>Quicksilver Ingot</td>\n",
       "      <td>Advanced</td>\n",
       "      <td>Battleaxe</td>\n",
       "      <td>Two-Handed</td>\n",
       "    </tr>\n",
       "    <tr>\n",
       "      <th>13</th>\n",
       "      <td>Orcish Battleaxe</td>\n",
       "      <td>19</td>\n",
       "      <td>25.0</td>\n",
       "      <td>165</td>\n",
       "      <td>Orichalcum Ingot</td>\n",
       "      <td>Orcish</td>\n",
       "      <td>Battleaxe</td>\n",
       "      <td>Two-Handed</td>\n",
       "    </tr>\n",
       "    <tr>\n",
       "      <th>14</th>\n",
       "      <td>Skyforge Steel Battleaxe</td>\n",
       "      <td>21</td>\n",
       "      <td>21.0</td>\n",
       "      <td>150</td>\n",
       "      <td>Steel Ingot</td>\n",
       "      <td>Steel</td>\n",
       "      <td>Battleaxe</td>\n",
       "      <td>Two-Handed</td>\n",
       "    </tr>\n",
       "    <tr>\n",
       "      <th>15</th>\n",
       "      <td>Stalhrim Battleaxe</td>\n",
       "      <td>24</td>\n",
       "      <td>25.0</td>\n",
       "      <td>2150</td>\n",
       "      <td>Stalhrim</td>\n",
       "      <td>Ebony</td>\n",
       "      <td>Battleaxe</td>\n",
       "      <td>Two-Handed</td>\n",
       "    </tr>\n",
       "    <tr>\n",
       "      <th>16</th>\n",
       "      <td>Steel Battleaxe of Fiery Souls</td>\n",
       "      <td>18</td>\n",
       "      <td>21.0</td>\n",
       "      <td>320</td>\n",
       "      <td>Steel Ingot</td>\n",
       "      <td>Steel</td>\n",
       "      <td>Battleaxe</td>\n",
       "      <td>Two-Handed</td>\n",
       "    </tr>\n",
       "    <tr>\n",
       "      <th>17</th>\n",
       "      <td>Steel Battleaxe</td>\n",
       "      <td>18</td>\n",
       "      <td>21.0</td>\n",
       "      <td>100</td>\n",
       "      <td>Steel Ingot</td>\n",
       "      <td>Steel</td>\n",
       "      <td>Battleaxe</td>\n",
       "      <td>Two-Handed</td>\n",
       "    </tr>\n",
       "    <tr>\n",
       "      <th>23</th>\n",
       "      <td>Blade of Woe</td>\n",
       "      <td>12</td>\n",
       "      <td>7.0</td>\n",
       "      <td>880</td>\n",
       "      <td>None required</td>\n",
       "      <td>Steel</td>\n",
       "      <td>Dagger</td>\n",
       "      <td>One-Handed</td>\n",
       "    </tr>\n",
       "    <tr>\n",
       "      <th>25</th>\n",
       "      <td>Bloodthorn</td>\n",
       "      <td>8</td>\n",
       "      <td>2.5</td>\n",
       "      <td>183</td>\n",
       "      <td>Steel Ingot</td>\n",
       "      <td>Steel</td>\n",
       "      <td>Dagger</td>\n",
       "      <td>One-Handed</td>\n",
       "    </tr>\n",
       "    <tr>\n",
       "      <th>26</th>\n",
       "      <td>Borvir's Dagger</td>\n",
       "      <td>8</td>\n",
       "      <td>4.0</td>\n",
       "      <td>18</td>\n",
       "      <td>Refined Moonstone</td>\n",
       "      <td>Elven</td>\n",
       "      <td>Dagger</td>\n",
       "      <td>One-Handed</td>\n",
       "    </tr>\n",
       "    <tr>\n",
       "      <th>27</th>\n",
       "      <td>Daedric Dagger</td>\n",
       "      <td>11</td>\n",
       "      <td>6.0</td>\n",
       "      <td>500</td>\n",
       "      <td>Ebony Ingot</td>\n",
       "      <td>Daedric</td>\n",
       "      <td>Dagger</td>\n",
       "      <td>One-Handed</td>\n",
       "    </tr>\n",
       "    <tr>\n",
       "      <th>28</th>\n",
       "      <td>Dragonbone Dagger</td>\n",
       "      <td>12</td>\n",
       "      <td>6.5</td>\n",
       "      <td>600</td>\n",
       "      <td>Dragon Bone</td>\n",
       "      <td>Dragon</td>\n",
       "      <td>Dagger</td>\n",
       "      <td>One-Handed</td>\n",
       "    </tr>\n",
       "    <tr>\n",
       "      <th>30</th>\n",
       "      <td>Dwarven Dagger</td>\n",
       "      <td>7</td>\n",
       "      <td>3.5</td>\n",
       "      <td>55</td>\n",
       "      <td>Dwarven Metal Ingot</td>\n",
       "      <td>Dwarven</td>\n",
       "      <td>Dagger</td>\n",
       "      <td>One-Handed</td>\n",
       "    </tr>\n",
       "    <tr>\n",
       "      <th>31</th>\n",
       "      <td>Ebony Dagger</td>\n",
       "      <td>10</td>\n",
       "      <td>5.0</td>\n",
       "      <td>290</td>\n",
       "      <td>Ebony Ingot</td>\n",
       "      <td>Ebony</td>\n",
       "      <td>Dagger</td>\n",
       "      <td>One-Handed</td>\n",
       "    </tr>\n",
       "    <tr>\n",
       "      <th>32</th>\n",
       "      <td>Elven Dagger</td>\n",
       "      <td>8</td>\n",
       "      <td>4.0</td>\n",
       "      <td>95</td>\n",
       "      <td>Refined Moonstone</td>\n",
       "      <td>Elven</td>\n",
       "      <td>Dagger</td>\n",
       "      <td>One-Handed</td>\n",
       "    </tr>\n",
       "    <tr>\n",
       "      <th>33</th>\n",
       "      <td>Glass Dagger</td>\n",
       "      <td>9</td>\n",
       "      <td>4.5</td>\n",
       "      <td>165</td>\n",
       "      <td>Refined Malachite</td>\n",
       "      <td>Glass</td>\n",
       "      <td>Dagger</td>\n",
       "      <td>One-Handed</td>\n",
       "    </tr>\n",
       "    <tr>\n",
       "      <th>39</th>\n",
       "      <td>Nordic Dagger</td>\n",
       "      <td>8</td>\n",
       "      <td>3.5</td>\n",
       "      <td>115</td>\n",
       "      <td>Quicksilver Ingot</td>\n",
       "      <td>Advanced</td>\n",
       "      <td>Dagger</td>\n",
       "      <td>One-Handed</td>\n",
       "    </tr>\n",
       "    <tr>\n",
       "      <th>40</th>\n",
       "      <td>Orcish Dagger</td>\n",
       "      <td>6</td>\n",
       "      <td>3.0</td>\n",
       "      <td>30</td>\n",
       "      <td>Orichalcum Ingot</td>\n",
       "      <td>Orcish</td>\n",
       "      <td>Dagger</td>\n",
       "      <td>One-Handed</td>\n",
       "    </tr>\n",
       "    <tr>\n",
       "      <th>41</th>\n",
       "      <td>Rundi's Dagger</td>\n",
       "      <td>5</td>\n",
       "      <td>2.5</td>\n",
       "      <td>18</td>\n",
       "      <td>Steel Ingot</td>\n",
       "      <td>Steel</td>\n",
       "      <td>Dagger</td>\n",
       "      <td>One-Handed</td>\n",
       "    </tr>\n",
       "    <tr>\n",
       "      <th>44</th>\n",
       "      <td>Stalhrim Dagger</td>\n",
       "      <td>10</td>\n",
       "      <td>4.5</td>\n",
       "      <td>395</td>\n",
       "      <td>Stalhrim</td>\n",
       "      <td>Ebony</td>\n",
       "      <td>Dagger</td>\n",
       "      <td>One-Handed</td>\n",
       "    </tr>\n",
       "    <tr>\n",
       "      <th>45</th>\n",
       "      <td>Steel Dagger</td>\n",
       "      <td>5</td>\n",
       "      <td>2.5</td>\n",
       "      <td>18</td>\n",
       "      <td>Steel Ingot</td>\n",
       "      <td>Steel</td>\n",
       "      <td>Dagger</td>\n",
       "      <td>One-Handed</td>\n",
       "    </tr>\n",
       "    <tr>\n",
       "      <th>46</th>\n",
       "      <td>Valdr's Lucky Dagger</td>\n",
       "      <td>5</td>\n",
       "      <td>2.5</td>\n",
       "      <td>15</td>\n",
       "      <td>Steel Ingot</td>\n",
       "      <td>Steel</td>\n",
       "      <td>Dagger</td>\n",
       "      <td>One-Handed</td>\n",
       "    </tr>\n",
       "  </tbody>\n",
       "</table>\n",
       "</div>"
      ]
     },
     "execution_count": 11,
     "metadata": {},
     "output_type": "execute_result"
    }
   ],
   "execution_count": 11
  },
  {
   "cell_type": "code",
   "id": "bfca44ff-27cd-449f-9a11-bdc349e3b7e2",
   "metadata": {
    "ExecuteTime": {
     "end_time": "2025-05-20T08:13:25.478938Z",
     "start_time": "2025-05-20T08:13:25.467617Z"
    }
   },
   "source": [
    "# Check for missing values again to make sure there is no more missing values\n",
    "print(\"\\nMissing values:\")\n",
    "sw.isnull().sum()"
   ],
   "outputs": [
    {
     "name": "stdout",
     "output_type": "stream",
     "text": [
      "\n",
      "Missing values:\n"
     ]
    },
    {
     "data": {
      "text/plain": [
       "Name        0\n",
       "Damage      0\n",
       "Weight      0\n",
       "Gold        0\n",
       "Upgrade     0\n",
       "Perk        0\n",
       "Type        0\n",
       "Category    0\n",
       "dtype: int64"
      ]
     },
     "execution_count": 12,
     "metadata": {},
     "output_type": "execute_result"
    }
   ],
   "execution_count": 12
  },
  {
   "metadata": {},
   "cell_type": "markdown",
   "source": "We then make our first diagram. This diagram shows the relation between the category of weapons and types.\n",
   "id": "1cab1b57aff28d9f"
  },
  {
   "cell_type": "code",
   "id": "143d4d99-f2f2-4ba2-89e1-58afe8fe0218",
   "metadata": {
    "ExecuteTime": {
     "end_time": "2025-05-20T08:13:26.234389Z",
     "start_time": "2025-05-20T08:13:25.729273Z"
    }
   },
   "source": [
    "#Group by category and show the type of weapons associated. Qualitative-qualitative chart.\n",
    "cattypeunique   = sw.groupby([\"Category\",\"Type\"]).count()[\"Name\"]\n",
    "cattypeunvalues = cattypeunique.values\n",
    "catsum = cattypeunique.groupby(level=[\"Category\"], sort=False).sum()\n",
    "typsum = cattypeunique.groupby(level=[\"Type\"], sort=False).sum()\n",
    "\n",
    "fig, ax = plt.subplots(figsize=(10,10))\n",
    "\n",
    "size = 0.3\n",
    "vals = cattypeunique\n",
    "cmap = plt.colormaps[\"tab20c\"]\n",
    "outer_colors = cmap(np.arange(3)*4)\n",
    "inner_colors = cmap([1, 2, 3, 3, 5, 5, 5, 6, 7, 9, 10, 11])\n",
    "\n",
    "# Labels defining for both layers of the pie\n",
    "labels_inner = typsum.index\n",
    "labels_outer = catsum.index\n",
    "\n",
    "ax.pie(catsum, \n",
    "       radius=1, colors=outer_colors,\n",
    "       wedgeprops=dict(width=size, edgecolor='w'), \n",
    "       labels=labels_outer, labeldistance =1.05, textprops={'fontsize': 13},\n",
    "       autopct='%1.0f%%', pctdistance=0.9)\n",
    "\n",
    "ax.pie(typsum.values, \n",
    "       radius=1-size, colors=inner_colors,\n",
    "       wedgeprops=dict(width=size, edgecolor='w'), \n",
    "       labels=labels_inner, labeldistance =1.05, textprops={'fontsize': 11}, \n",
    "       autopct='%1.0f%%', pctdistance=0.8)\n",
    "\n",
    "\n",
    "ax.set(aspect=\"equal\")\n",
    "plt.title('Percentage of categories and types of weapons associated', fontsize = 18)\n",
    "plt.show();"
   ],
   "outputs": [
    {
     "data": {
      "text/plain": [
       "<Figure size 1000x1000 with 1 Axes>"
      ],
      "image/png": "[encoded data removed]"
     },
     "metadata": {},
     "output_type": "display_data"
    }
   ],
   "execution_count": 13
  },
  {
   "metadata": {},
   "cell_type": "markdown",
   "source": "Then we make another diagram to show the damage distribution of the weapons.\n",
   "id": "c858673fd7dd4289"
  },
  {
   "cell_type": "code",
   "id": "8ff1cf54-58bb-4d4f-b54f-c65912c1d3a0",
   "metadata": {
    "ExecuteTime": {
     "end_time": "2025-05-20T08:13:26.721763Z",
     "start_time": "2025-05-20T08:13:26.393619Z"
    }
   },
   "source": [
    "# Histogram of the damages\n",
    "n_bins = 50\n",
    "# logbins = np.logspace(np.log10(n_bins[0]),np.log10(n_bins[-1]),len(n_bins))\n",
    "damhist = sw[\"Damage\"]\n",
    "\n",
    "plt.figure(figsize = (10,5))\n",
    "plt.hist(damhist, bins=n_bins, log = False);\n",
    "plt.title(\"Damage distribution of the weapons\", fontsize = 18);"
   ],
   "outputs": [
    {
     "data": {
      "text/plain": [
       "<Figure size 1000x500 with 1 Axes>"
      ],
      "image/png": "[encoded data removed]"
     },
     "metadata": {},
     "output_type": "display_data"
    }
   ],
   "execution_count": 14
  },
  {
   "metadata": {
    "ExecuteTime": {
     "end_time": "2025-05-20T08:13:27.098110Z",
     "start_time": "2025-05-20T08:13:26.771621Z"
    }
   },
   "cell_type": "code",
   "source": [
    "\n",
    "# Prepare the data\n",
    "data = sw[['Damage', 'Weight']]\n",
    "\n",
    "# Plot the histogram\n",
    "plt.figure(figsize=(10, 6))\n",
    "\n",
    "# Plot each feature with different colors\n",
    "plt.hist(data['Damage'], bins=50, alpha=0.5, label='Damage', color='green')\n",
    "plt.hist(data['Weight'], bins=50, alpha=0.5, label='Weight', color='red')\n",
    "\n",
    "# Add titles and labels\n",
    "plt.title('Distribution of Damage, and Weight', fontsize=18)\n",
    "plt.xlabel('Value', fontsize=14)\n",
    "plt.ylabel('Frequency', fontsize=14)\n",
    "\n",
    "# Show legend\n",
    "plt.legend()\n",
    "\n",
    "# Display the plot\n",
    "plt.show()"
   ],
   "id": "c330b6b97f3fbe38",
   "outputs": [
    {
     "data": {
      "text/plain": [
       "<Figure size 1000x600 with 1 Axes>"
      ],
      "image/png": "[encoded data removed]"
     },
     "metadata": {},
     "output_type": "display_data"
    }
   ],
   "execution_count": 15
  },
  {
   "cell_type": "code",
   "id": "d60e2952-7598-443e-a47f-9c4279ec0588",
   "metadata": {
    "ExecuteTime": {
     "end_time": "2025-05-20T08:13:27.152867Z",
     "start_time": "2025-05-20T08:13:27.147594Z"
    }
   },
   "source": "print(sw.columns)  # This will list all the column names in your DataFrame\n",
   "outputs": [
    {
     "name": "stdout",
     "output_type": "stream",
     "text": [
      "Index(['Name', 'Damage', 'Weight', 'Gold', 'Upgrade', 'Perk', 'Type',\n",
      "       'Category'],\n",
      "      dtype='object')\n"
     ]
    }
   ],
   "execution_count": 16
  },
  {
   "metadata": {},
   "cell_type": "markdown",
   "source": "After this, we apply ordinal encoding, to convert categorical variables into numerical.\n",
   "id": "41f7d7ef2b4598b8"
  },
  {
   "cell_type": "code",
   "id": "0b209bfc-549b-40c6-b382-dd68e2c3c431",
   "metadata": {
    "ExecuteTime": {
     "end_time": "2025-05-20T08:13:27.248953Z",
     "start_time": "2025-05-20T08:13:27.232058Z"
    }
   },
   "source": [
    "# Columns you want to encode\n",
    "categorical_cols = ['Name', 'Upgrade', 'Perk', 'Type']\n",
    "\n",
    "# Create encoder instance\n",
    "encoder = OrdinalEncoder()\n",
    "\n",
    "# Create a temporary DataFrame to avoid changing the original one\n",
    "sw_temp = sw.copy()\n",
    "\n",
    "# Fit and transform the categorical columns into numbers\n",
    "sw_temp[categorical_cols] = encoder.fit_transform(sw_temp[categorical_cols])\n",
    "\n",
    "# Now all categorical values are numeric\n",
    "print(sw_temp.head())"
   ],
   "outputs": [
    {
     "name": "stdout",
     "output_type": "stream",
     "text": [
      "   Name  Damage  Weight  Gold  Upgrade  Perk  Type    Category\n",
      "0   0.0      18    22.0    28     11.0   8.0   0.0  Two-Handed\n",
      "1  23.0      25    27.0  2750      3.0   1.0   0.0  Two-Handed\n",
      "2  40.0      26    30.0  3000      1.0   2.0   0.0  Two-Handed\n",
      "4  49.0      20    23.0   300      2.0   3.0   0.0  Two-Handed\n",
      "5  58.0      23    26.0  1585      3.0   4.0   0.0  Two-Handed\n"
     ]
    }
   ],
   "execution_count": 17
  },
  {
   "metadata": {},
   "cell_type": "markdown",
   "source": "We then removes the name and upgrade, to make a better correlation heatmap.\n",
   "id": "15714227dffede15"
  },
  {
   "cell_type": "code",
   "id": "4cf88782-cd75-463a-a5c0-2f032a66b22a",
   "metadata": {
    "ExecuteTime": {
     "end_time": "2025-05-20T08:13:27.637489Z",
     "start_time": "2025-05-20T08:13:27.299002Z"
    }
   },
   "source": [
    "# Calculate the correlation matrix\n",
    "sw_temp = sw_temp.apply(pd.to_numeric, errors='coerce')\n",
    "\n",
    "# Now remove all rows with NaN values (to ensure only numeric data remains)\n",
    "sw_temp = sw_temp.dropna(axis=1, how='any')\n",
    "\n",
    "# Check correlation matrix for only numeric columns\n",
    "correlation_matrix = sw_temp.corr()\n",
    "\n",
    "\n",
    "plt.figure(figsize=(12, 8))\n",
    "sns.heatmap(correlation_matrix, annot=True, cmap='coolwarm', fmt='.2f')\n",
    "plt.title(\"Correlation Heatmap\")\n",
    "plt.show()"
   ],
   "outputs": [
    {
     "data": {
      "text/plain": [
       "<Figure size 1200x800 with 2 Axes>"
      ],
      "image/png": "[encoded data removed]"
     },
     "metadata": {},
     "output_type": "display_data"
    }
   ],
   "execution_count": 18
  },
  {
   "metadata": {},
   "cell_type": "markdown",
   "source": [
    "Now we begin our price prediction. We start of by sorting the values in relation to the correlation matrix, to find out which\n",
    "categories might be in correlation to the price."
   ],
   "id": "283f856a2daf3560"
  },
  {
   "cell_type": "code",
   "id": "79155fbb-9961-452b-9601-09f6ba0c12dd",
   "metadata": {
    "ExecuteTime": {
     "end_time": "2025-05-20T08:13:27.809825Z",
     "start_time": "2025-05-20T08:13:27.690830Z"
    }
   },
   "source": [
    "correlation_gold = correlation_matrix['Gold'].sort_values(ascending=False).to_frame()\n",
    "\n",
    "# Add scrollable output inside the notebook\n",
    "correlation_gold.style.set_sticky().set_table_attributes(\"style='height:400px; overflow-y:auto; display:block'\")\n"
   ],
   "outputs": [
    {
     "data": {
      "text/plain": [
       "<pandas.io.formats.style.Styler at 0x1bbd9860d40>"
      ],
      "text/html": [
       "<style type=\"text/css\">\n",
       "#T_7cda6 thead tr th:nth-child(1) {\n",
       "  position: sticky;\n",
       "  background-color: inherit;\n",
       "  left: 0px;\n",
       "  z-index: 3 !important;\n",
       "}\n",
       "#T_7cda6 tbody tr th:nth-child(1) {\n",
       "  position: sticky;\n",
       "  background-color: inherit;\n",
       "  left: 0px;\n",
       "  z-index: 1;\n",
       "}\n",
       "</style>\n",
       "<table id=\"T_7cda6\" style='height:400px; overflow-y:auto; display:block'>\n",
       "  <thead>\n",
       "    <tr>\n",
       "      <th class=\"blank level0\" >&nbsp;</th>\n",
       "      <th id=\"T_7cda6_level0_col0\" class=\"col_heading level0 col0\" >Gold</th>\n",
       "    </tr>\n",
       "  </thead>\n",
       "  <tbody>\n",
       "    <tr>\n",
       "      <th id=\"T_7cda6_level0_row0\" class=\"row_heading level0 row0\" >Gold</th>\n",
       "      <td id=\"T_7cda6_row0_col0\" class=\"data row0 col0\" >1.000000</td>\n",
       "    </tr>\n",
       "    <tr>\n",
       "      <th id=\"T_7cda6_level0_row1\" class=\"row_heading level0 row1\" >Damage</th>\n",
       "      <td id=\"T_7cda6_row1_col0\" class=\"data row1 col0\" >0.560687</td>\n",
       "    </tr>\n",
       "    <tr>\n",
       "      <th id=\"T_7cda6_level0_row2\" class=\"row_heading level0 row2\" >Weight</th>\n",
       "      <td id=\"T_7cda6_row2_col0\" class=\"data row2 col0\" >0.483666</td>\n",
       "    </tr>\n",
       "    <tr>\n",
       "      <th id=\"T_7cda6_level0_row3\" class=\"row_heading level0 row3\" >Type</th>\n",
       "      <td id=\"T_7cda6_row3_col0\" class=\"data row3 col0\" >-0.019196</td>\n",
       "    </tr>\n",
       "    <tr>\n",
       "      <th id=\"T_7cda6_level0_row4\" class=\"row_heading level0 row4\" >Name</th>\n",
       "      <td id=\"T_7cda6_row4_col0\" class=\"data row4 col0\" >-0.269191</td>\n",
       "    </tr>\n",
       "    <tr>\n",
       "      <th id=\"T_7cda6_level0_row5\" class=\"row_heading level0 row5\" >Perk</th>\n",
       "      <td id=\"T_7cda6_row5_col0\" class=\"data row5 col0\" >-0.462071</td>\n",
       "    </tr>\n",
       "    <tr>\n",
       "      <th id=\"T_7cda6_level0_row6\" class=\"row_heading level0 row6\" >Upgrade</th>\n",
       "      <td id=\"T_7cda6_row6_col0\" class=\"data row6 col0\" >-0.482477</td>\n",
       "    </tr>\n",
       "  </tbody>\n",
       "</table>\n"
      ]
     },
     "execution_count": 19,
     "metadata": {},
     "output_type": "execute_result"
    }
   ],
   "execution_count": 19
  },
  {
   "metadata": {},
   "cell_type": "markdown",
   "source": "After that, we pick the relevant features based on the correlation, and checks our R2 score and RMSE.\n",
   "id": "5dccea31c477a369"
  },
  {
   "cell_type": "code",
   "id": "5a2d5ed2-8159-4f62-b26c-9878e47dad84",
   "metadata": {
    "ExecuteTime": {
     "end_time": "2025-05-20T08:13:28.079750Z",
     "start_time": "2025-05-20T08:13:27.875350Z"
    }
   },
   "source": [
    "# Define the relevant features and target\n",
    "features = ['Damage', 'Weight']  # Example features (Category is categorical)\n",
    "target = 'Gold'\n",
    "\n",
    "# Extract features and target from the dataset\n",
    "X = sw_temp[features]\n",
    "y = sw_temp[target]\n",
    "\n",
    "# Split the dataset into training and testing sets\n",
    "X_train, X_test, y_train, y_test = train_test_split(X, y, test_size=0.2, random_state=42)\n",
    "\n",
    "# Define a column transformer for encoding categorical variables\n",
    "preprocessor = ColumnTransformer(\n",
    "    transformers=[\n",
    "        ('num', 'passthrough', ['Damage', 'Weight'])  # Keep 'Damage' and 'Weight' as they are\n",
    "    ])\n",
    "\n",
    "# Create a pipeline that first applies preprocessing and then trains the model\n",
    "model = Pipeline(steps=[\n",
    "    ('preprocessor', preprocessor),\n",
    "    ('regressor', RandomForestRegressor(n_estimators=100, random_state=42))\n",
    "])\n",
    "\n",
    "# Train the model\n",
    "model.fit(X_train, y_train)\n",
    "\n",
    "# Predict on the test data\n",
    "y_pred = model.predict(X_test)\n",
    "\n",
    "# Evaluate the model\n",
    "print(\"R2 Score:\", r2_score(y_test, y_pred))\n",
    "\n",
    "# Calculate Mean Squared Error\n",
    "mse = mean_squared_error(y_test, y_pred)\n",
    "\n",
    "# Calculate Root Mean Squared Error (RMSE)\n",
    "rmse = mse ** 0.5\n",
    "\n",
    "print(\"RMSE:\", rmse)"
   ],
   "outputs": [
    {
     "name": "stdout",
     "output_type": "stream",
     "text": [
      "R2 Score: 0.5726967903658331\n",
      "RMSE: 537.2842173671172\n"
     ]
    }
   ],
   "execution_count": 20
  },
  {
   "metadata": {},
   "cell_type": "markdown",
   "source": [
    "R2 score is 0.78, which means our model explains about 78% of the variance in weapons, and RMSE is 384 which means our price predictions\n",
    "are off by around 384 gold.\n",
    "We then use this to make another model, which visually shows the actual price vs the predicted price in gold. For good sake, we try some other regression models."
   ],
   "id": "1aa4bffda1ddd215"
  },
  {
   "metadata": {
    "ExecuteTime": {
     "end_time": "2025-05-20T08:13:28.174683Z",
     "start_time": "2025-05-20T08:13:28.142292Z"
    }
   },
   "cell_type": "code",
   "source": [
    "from sklearn.linear_model import LinearRegression\n",
    "\n",
    "# Replace RandomForestRegressor with LinearRegression\n",
    "model = Pipeline(steps=[\n",
    "    ('preprocessor', preprocessor),\n",
    "    ('regressor', LinearRegression())\n",
    "])\n",
    "\n",
    "# Train and predict\n",
    "model.fit(X_train, y_train)\n",
    "y_pred = model.predict(X_test)\n",
    "\n",
    "# Evaluate\n",
    "print(\"R2 Score:\", r2_score(y_test, y_pred))\n",
    "\n",
    "# MSE and RMSE\n",
    "mse = mean_squared_error(y_test, y_pred)\n",
    "rmse = mse ** 0.5\n",
    "print(\"RMSE:\", rmse)\n"
   ],
   "id": "20f499fc3c9f3aaa",
   "outputs": [
    {
     "name": "stdout",
     "output_type": "stream",
     "text": [
      "R2 Score: 0.3966630287784604\n",
      "RMSE: 638.4339527929294\n"
     ]
    }
   ],
   "execution_count": 21
  },
  {
   "metadata": {},
   "cell_type": "markdown",
   "source": "Here, we see that our RandomForestGenerator gives a better R2 and RMSE score than the Linear regression.",
   "id": "322d8cc0174d85fc"
  },
  {
   "metadata": {
    "ExecuteTime": {
     "end_time": "2025-05-20T08:13:28.241721Z",
     "start_time": "2025-05-20T08:13:28.226772Z"
    }
   },
   "cell_type": "code",
   "source": [
    "# Create a copy of the DataFrame to avoid permanent changes\n",
    "sw_temp = sw.copy()\n",
    "\n",
    "# Now perform the grouping with the original string values (no encoding needed)\n",
    "for col in ['Type', 'Perk', 'Upgrade']:\n",
    "    print(f\"\\nAverage Gold by {col}:\")\n",
    "    print(sw_temp.groupby(col)['Gold'].mean().sort_values(ascending=False).round(2))\n"
   ],
   "id": "a12cb0d3304a1cb0",
   "outputs": [
    {
     "name": "stdout",
     "output_type": "stream",
     "text": [
      "\n",
      "Average Gold by Type:\n",
      "Type\n",
      "Warhammer     1115.73\n",
      "Battleaxe      864.53\n",
      "Greatsword     800.50\n",
      "Bow            748.68\n",
      "Mace           698.33\n",
      "Sword          597.21\n",
      "War Axe        353.13\n",
      "Dagger         225.13\n",
      "Name: Gold, dtype: float64\n",
      "\n",
      "Average Gold by Perk:\n",
      "Perk\n",
      "Dragon      2315.62\n",
      "Daedric     1960.90\n",
      "Ebony       1360.62\n",
      "Glass        732.81\n",
      "Advanced     460.00\n",
      "Elven        441.31\n",
      "Dwarven      425.27\n",
      "Steel        304.13\n",
      "Orcish       116.00\n",
      "Name: Gold, dtype: float64\n",
      "\n",
      "Average Gold by Upgrade:\n",
      "Upgrade\n",
      "Dragon Bone                2315.62\n",
      "Stalhrim                   1588.12\n",
      "Ebony Ingot                1585.26\n",
      "None required               880.00\n",
      "Quicksilver Ingot           869.57\n",
      "Refined Malachite           732.81\n",
      "Refined Moonstone           441.31\n",
      "Daedra HeartEbony Ingot     427.00\n",
      "Dwarven Metal Ingot         264.44\n",
      "Steel Ingot                 244.99\n",
      "Orichalcum Ingot            116.00\n",
      "Leather Strips               50.00\n",
      "Name: Gold, dtype: float64\n"
     ]
    }
   ],
   "execution_count": 22
  },
  {
   "cell_type": "code",
   "id": "6bd8aafa-c30e-46bf-8ab0-776169df5b1f",
   "metadata": {
    "ExecuteTime": {
     "end_time": "2025-05-20T08:13:28.443907Z",
     "start_time": "2025-05-20T08:13:28.295908Z"
    }
   },
   "source": [
    "plt.scatter(y_test, y_pred, alpha=0.7)\n",
    "plt.xlabel(\"Actual Price (Gold)\")\n",
    "plt.ylabel(\"Predicted Price (Gold)\")\n",
    "plt.title(\"Actual vs Predicted Weapon Prices\")\n",
    "plt.plot([y_test.min(), y_test.max()], [y_test.min(), y_test.max()], color='red')  # perfect prediction line\n",
    "plt.show()"
   ],
   "outputs": [
    {
     "data": {
      "text/plain": [
       "<Figure size 640x480 with 1 Axes>"
      ],
      "image/png": "[encoded data removed]"
     },
     "metadata": {},
     "output_type": "display_data"
    }
   ],
   "execution_count": 23
  },
  {
   "metadata": {},
   "cell_type": "markdown",
   "source": "Now its time to try out our price prediction. We start by making a new weapon and adds it to our dataframe.",
   "id": "c2e9b2657f5e9cef"
  },
  {
   "cell_type": "code",
   "id": "3efff991-2a86-4daf-8264-25e40fdbdd0a",
   "metadata": {
    "ExecuteTime": {
     "end_time": "2025-05-20T08:13:28.508298Z",
     "start_time": "2025-05-20T08:13:28.488878Z"
    }
   },
   "source": [
    "new_weapon = {\n",
    "    'Damage': 15,\n",
    "    'Weight': 18,\n",
    "    'Upgrade': 'Steel Ingot',\n",
    "    'Perk': 'Steel',\n",
    "    'Type': 'War Axe',\n",
    "}\n",
    "\n",
    "\n",
    "# Create the input DataFrame\n",
    "new_df = pd.DataFrame([new_weapon])\n",
    "\n",
    "# Combine with original dataset to align columns\n",
    "combined = pd.concat([new_df, sw], ignore_index=True)\n",
    "\n",
    "# One-hot encode (use same columns as during training)\n",
    "combined_encoded = pd.get_dummies(combined, drop_first=True)\n",
    "\n",
    "# Make sure the new data has the same columns as X (training features)\n",
    "combined_encoded = combined_encoded.reindex(columns=X.columns, fill_value=0)\n",
    "\n",
    "# Take just the first row (the new weapon)\n",
    "new_encoded = combined_encoded.iloc[[0]]\n",
    "\n",
    "print(new_weapon)\n"
   ],
   "outputs": [
    {
     "name": "stdout",
     "output_type": "stream",
     "text": [
      "{'Damage': 15, 'Weight': 18, 'Upgrade': 'Steel Ingot', 'Perk': 'Steel', 'Type': 'War Axe'}\n"
     ]
    }
   ],
   "execution_count": 24
  },
  {
   "metadata": {},
   "cell_type": "markdown",
   "source": "After that, we predict the price of our newly created weapon.\n",
   "id": "2cf69e533efe0fc5"
  },
  {
   "cell_type": "code",
   "id": "9e66c6ec-998e-4c81-91ca-81f506a7359a",
   "metadata": {
    "ExecuteTime": {
     "end_time": "2025-05-20T08:13:28.583841Z",
     "start_time": "2025-05-20T08:13:28.575835Z"
    }
   },
   "source": [
    "predicted_price = model.predict(new_encoded)\n",
    "print(f\"Predicted Price (Gold): {predicted_price[0]:.2f}\")\n"
   ],
   "outputs": [
    {
     "name": "stdout",
     "output_type": "stream",
     "text": [
      "Predicted Price (Gold): 688.82\n"
     ]
    }
   ],
   "execution_count": 25
  },
  {
   "cell_type": "code",
   "id": "7029741a-8edf-4ac7-bb2f-5f8011fdac5b",
   "metadata": {
    "ExecuteTime": {
     "end_time": "2025-05-20T08:13:28.667863Z",
     "start_time": "2025-05-20T08:13:28.646569Z"
    }
   },
   "source": [
    "dump(model, \"model.pkl\")\n",
    "encoder = OrdinalEncoder(handle_unknown='use_encoded_value', unknown_value=-1)\n",
    "sw[categorical_cols] = encoder.fit_transform(sw[categorical_cols])\n",
    "\n",
    "dump(encoder, \"ordinal_encoder.pkl\")"
   ],
   "outputs": [
    {
     "data": {
      "text/plain": [
       "['ordinal_encoder.pkl']"
      ]
     },
     "execution_count": 26,
     "metadata": {},
     "output_type": "execute_result"
    }
   ],
   "execution_count": 26
  },
  {
   "metadata": {
    "ExecuteTime": {
     "end_time": "2025-05-20T08:13:28.739398Z",
     "start_time": "2025-05-20T08:13:28.733383Z"
    }
   },
   "cell_type": "code",
   "source": "print(sw.columns)",
   "id": "4baae73dc687919a",
   "outputs": [
    {
     "name": "stdout",
     "output_type": "stream",
     "text": [
      "Index(['Name', 'Damage', 'Weight', 'Gold', 'Upgrade', 'Perk', 'Type',\n",
      "       'Category'],\n",
      "      dtype='object')\n"
     ]
    }
   ],
   "execution_count": 27
  }
 ],
 "metadata": {
  "kernelspec": {
   "display_name": "Python [conda env:base] *",
   "language": "python",
   "name": "conda-base-py"
  },
  "language_info": {
   "codemirror_mode": {
    "name": "ipython",
    "version": 3
   },
   "file_extension": ".py",
   "mimetype": "text/x-python",
   "name": "python",
   "nbconvert_exporter": "python",
   "pygments_lexer": "ipython3",
   "version": "3.12.7"
  }
 },
 "nbformat": 4,
 "nbformat_minor": 5
}
